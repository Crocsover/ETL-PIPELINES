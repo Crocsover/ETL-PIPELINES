{
 "cells": [
  {
   "cell_type": "markdown",
   "metadata": {
    "application/vnd.databricks.v1+cell": {
     "cellMetadata": {
      "byteLimit": 2048000,
      "rowLimit": 10000
     },
     "inputWidgets": {},
     "nuid": "9cd4928f-2007-423a-a4b2-66a7a11b675e",
     "showTitle": false,
     "title": ""
    }
   },
   "source": [
    "## # **DATA PROCESSING/TRANSFORMATION FRAMEWORK**"
   ]
  },
  {
   "cell_type": "code",
   "execution_count": null,
   "metadata": {
    "application/vnd.databricks.v1+cell": {
     "cellMetadata": {
      "byteLimit": 2048000,
      "rowLimit": 10000
     },
     "inputWidgets": {},
     "nuid": "0b59958c-5006-47e3-b05e-44cc9fd64fc6",
     "showTitle": false,
     "title": ""
    }
   },
   "outputs": [],
   "source": [
    "from pyspark.sql.functions import *"
   ]
  },
  {
   "cell_type": "markdown",
   "metadata": {
    "application/vnd.databricks.v1+cell": {
     "cellMetadata": {
      "byteLimit": 2048000,
      "rowLimit": 10000
     },
     "inputWidgets": {},
     "nuid": "066386fa-15c6-43f1-8ef8-7ac937a632b8",
     "showTitle": false,
     "title": ""
    }
   },
   "source": [
    "# EXTRACT\n",
    "READ DATA AND PUT IT IN DATAFRAME"
   ]
  },
  {
   "cell_type": "code",
   "execution_count": null,
   "metadata": {
    "application/vnd.databricks.v1+cell": {
     "cellMetadata": {
      "byteLimit": 2048000,
      "rowLimit": 10000
     },
     "collapsed": true,
     "inputWidgets": {},
     "nuid": "c760fc54-dbf0-4715-8df6-8fdff699c029",
     "showTitle": false,
     "title": ""
    }
   },
   "outputs": [],
   "source": [
    "\n",
    "storage_account_name = \"*****************\"\n",
    "storage_account_access_key = \"****************\"\n",
    "file_location = \"**************\"\n",
    "file_type = \"*************\"\n",
    "\n"
   ]
  },
  {
   "cell_type": "code",
   "execution_count": null,
   "metadata": {
    "application/vnd.databricks.v1+cell": {
     "cellMetadata": {
      "byteLimit": 2048000,
      "rowLimit": 10000
     },
     "collapsed": true,
     "inputWidgets": {},
     "nuid": "8acc0dda-69e3-4817-bf5d-450562afe113",
     "showTitle": false,
     "title": ""
    }
   },
   "outputs": [],
   "source": [
    "spark.conf.set(\n",
    "  \"fs.azure.account.key.\"+storage_account_name+\".blob.core.windows.net\",\n",
    "  storage_account_access_key)"
   ]
  },
  {
   "cell_type": "code",
   "execution_count": null,
   "metadata": {
    "application/vnd.databricks.v1+cell": {
     "cellMetadata": {
      "byteLimit": 2048000,
      "rowLimit": 10000
     },
     "inputWidgets": {},
     "nuid": "f6366891-7da1-478e-8094-4291f4fca976",
     "showTitle": false,
     "title": ""
    }
   },
   "outputs": [
    {
     "data": {
      "text/html": [
       "<style scoped>\n",
       "  .table-result-container {\n",
       "    max-height: 300px;\n",
       "    overflow: auto;\n",
       "  }\n",
       "  table, th, td {\n",
       "    border: 1px solid black;\n",
       "    border-collapse: collapse;\n",
       "  }\n",
       "  th, td {\n",
       "    padding: 5px;\n",
       "  }\n",
       "  th {\n",
       "    text-align: left;\n",
       "  }\n",
       "</style><div class='table-result-container'><table class='table-result'><thead style='background-color: white'><tr><th>customerID</th><th>gender</th><th>SeniorCitizen</th><th>Partner</th><th>Dependents</th><th>tenure</th><th>PhoneService</th><th>MultipleLines</th><th>InternetService</th><th>OnlineSecurity</th><th>OnlineBackup</th><th>DeviceProtection</th><th>TechSupport</th><th>StreamingTV</th><th>StreamingMovies</th><th>Contract</th><th>PaperlessBilling</th><th>PaymentMethod</th><th>MonthlyCharges</th><th>TotalCharges</th><th>Churn</th></tr></thead><tbody><tr><td>7590-VHVEG</td><td>Female</td><td>0</td><td>Yes</td><td>No</td><td>1</td><td>No</td><td>No phone service</td><td>DSL</td><td>No</td><td>Yes</td><td>No</td><td>No</td><td>No</td><td>No</td><td>Month-to-month</td><td>Yes</td><td>Electronic check</td><td>29.85</td><td>29.85</td><td>No</td></tr><tr><td>5575-GNVDE</td><td>Male</td><td>0</td><td>No</td><td>No</td><td>34</td><td>Yes</td><td>No</td><td>DSL</td><td>Yes</td><td>No</td><td>Yes</td><td>No</td><td>No</td><td>No</td><td>One year</td><td>No</td><td>Mailed check</td><td>56.95</td><td>1889.5</td><td>No</td></tr><tr><td>3668-QPYBK</td><td>Male</td><td>0</td><td>No</td><td>No</td><td>2</td><td>Yes</td><td>No</td><td>DSL</td><td>Yes</td><td>Yes</td><td>No</td><td>No</td><td>No</td><td>No</td><td>Month-to-month</td><td>Yes</td><td>Mailed check</td><td>53.85</td><td>108.15</td><td>Yes</td></tr><tr><td>7795-CFOCW</td><td>Male</td><td>0</td><td>No</td><td>No</td><td>45</td><td>No</td><td>No phone service</td><td>DSL</td><td>Yes</td><td>No</td><td>Yes</td><td>Yes</td><td>No</td><td>No</td><td>One year</td><td>No</td><td>Bank transfer (automatic)</td><td>42.3</td><td>1840.75</td><td>No</td></tr><tr><td>9237-HQITU</td><td>Female</td><td>0</td><td>No</td><td>No</td><td>2</td><td>Yes</td><td>No</td><td>Fiber optic</td><td>No</td><td>No</td><td>No</td><td>No</td><td>No</td><td>No</td><td>Month-to-month</td><td>Yes</td><td>Electronic check</td><td>70.7</td><td>151.65</td><td>Yes</td></tr></tbody></table></div>"
      ]
     },
     "metadata": {
      "application/vnd.databricks.v1+output": {
       "addedWidgets": {},
       "aggData": [],
       "aggError": "",
       "aggOverflow": false,
       "aggSchema": [],
       "aggSeriesLimitReached": false,
       "aggType": "",
       "arguments": {},
       "columnCustomDisplayInfos": {},
       "data": [
        [
         "7590-VHVEG",
         "Female",
         0,
         "Yes",
         "No",
         1,
         "No",
         "No phone service",
         "DSL",
         "No",
         "Yes",
         "No",
         "No",
         "No",
         "No",
         "Month-to-month",
         "Yes",
         "Electronic check",
         29.85,
         "29.85",
         "No"
        ],
        [
         "5575-GNVDE",
         "Male",
         0,
         "No",
         "No",
         34,
         "Yes",
         "No",
         "DSL",
         "Yes",
         "No",
         "Yes",
         "No",
         "No",
         "No",
         "One year",
         "No",
         "Mailed check",
         56.95,
         "1889.5",
         "No"
        ],
        [
         "3668-QPYBK",
         "Male",
         0,
         "No",
         "No",
         2,
         "Yes",
         "No",
         "DSL",
         "Yes",
         "Yes",
         "No",
         "No",
         "No",
         "No",
         "Month-to-month",
         "Yes",
         "Mailed check",
         53.85,
         "108.15",
         "Yes"
        ],
        [
         "7795-CFOCW",
         "Male",
         0,
         "No",
         "No",
         45,
         "No",
         "No phone service",
         "DSL",
         "Yes",
         "No",
         "Yes",
         "Yes",
         "No",
         "No",
         "One year",
         "No",
         "Bank transfer (automatic)",
         42.3,
         "1840.75",
         "No"
        ],
        [
         "9237-HQITU",
         "Female",
         0,
         "No",
         "No",
         2,
         "Yes",
         "No",
         "Fiber optic",
         "No",
         "No",
         "No",
         "No",
         "No",
         "No",
         "Month-to-month",
         "Yes",
         "Electronic check",
         70.7,
         "151.65",
         "Yes"
        ]
       ],
       "datasetInfos": [],
       "dbfsResultPath": null,
       "isJsonSchema": true,
       "metadata": {},
       "overflow": false,
       "plotOptions": {
        "customPlotOptions": {},
        "displayType": "table",
        "pivotAggregation": null,
        "pivotColumns": null,
        "xColumns": null,
        "yColumns": null
       },
       "removedWidgets": [],
       "schema": [
        {
         "metadata": "{}",
         "name": "customerID",
         "type": "\"string\""
        },
        {
         "metadata": "{}",
         "name": "gender",
         "type": "\"string\""
        },
        {
         "metadata": "{}",
         "name": "SeniorCitizen",
         "type": "\"long\""
        },
        {
         "metadata": "{}",
         "name": "Partner",
         "type": "\"string\""
        },
        {
         "metadata": "{}",
         "name": "Dependents",
         "type": "\"string\""
        },
        {
         "metadata": "{}",
         "name": "tenure",
         "type": "\"long\""
        },
        {
         "metadata": "{}",
         "name": "PhoneService",
         "type": "\"string\""
        },
        {
         "metadata": "{}",
         "name": "MultipleLines",
         "type": "\"string\""
        },
        {
         "metadata": "{}",
         "name": "InternetService",
         "type": "\"string\""
        },
        {
         "metadata": "{}",
         "name": "OnlineSecurity",
         "type": "\"string\""
        },
        {
         "metadata": "{}",
         "name": "OnlineBackup",
         "type": "\"string\""
        },
        {
         "metadata": "{}",
         "name": "DeviceProtection",
         "type": "\"string\""
        },
        {
         "metadata": "{}",
         "name": "TechSupport",
         "type": "\"string\""
        },
        {
         "metadata": "{}",
         "name": "StreamingTV",
         "type": "\"string\""
        },
        {
         "metadata": "{}",
         "name": "StreamingMovies",
         "type": "\"string\""
        },
        {
         "metadata": "{}",
         "name": "Contract",
         "type": "\"string\""
        },
        {
         "metadata": "{}",
         "name": "PaperlessBilling",
         "type": "\"string\""
        },
        {
         "metadata": "{}",
         "name": "PaymentMethod",
         "type": "\"string\""
        },
        {
         "metadata": "{}",
         "name": "MonthlyCharges",
         "type": "\"double\""
        },
        {
         "metadata": "{}",
         "name": "TotalCharges",
         "type": "\"string\""
        },
        {
         "metadata": "{}",
         "name": "Churn",
         "type": "\"string\""
        }
       ],
       "type": "table"
      }
     },
     "output_type": "display_data"
    }
   ],
   "source": [
    "def read_csv(file_type, file_location):\n",
    "  #read csv and load as dataframe\n",
    "  df = spark.read.format(file_type).option(\"header\", \"true\").option(\"inferSchema\", \"true\").load(file_location)\n",
    "  \n",
    "  return df\n",
    "\n",
    "df = read_csv(file_type, file_location)\n",
    "display(df.head(5))"
   ]
  },
  {
   "cell_type": "markdown",
   "metadata": {
    "application/vnd.databricks.v1+cell": {
     "cellMetadata": {
      "byteLimit": 2048000,
      "rowLimit": 10000
     },
     "inputWidgets": {},
     "nuid": "cce2235b-ce67-4a47-b0ca-9b36e38ce8a9",
     "showTitle": false,
     "title": ""
    }
   },
   "source": [
    "# inspect data using pyspark\n",
    "- Print schema\n",
    "- Show first few rows\n",
    "- Summary statistics\n",
    "- Count total number of rows"
   ]
  },
  {
   "cell_type": "code",
   "execution_count": null,
   "metadata": {
    "application/vnd.databricks.v1+cell": {
     "cellMetadata": {
      "byteLimit": 2048000,
      "rowLimit": 10000
     },
     "inputWidgets": {},
     "nuid": "28ba77a2-0a4b-4edc-af1a-f895d5fdd2eb",
     "showTitle": false,
     "title": ""
    }
   },
   "outputs": [
    {
     "name": "stdout",
     "output_type": "stream",
     "text": [
      "root\n",
      " |-- customerID: string (nullable = true)\n",
      " |-- gender: string (nullable = true)\n",
      " |-- SeniorCitizen: integer (nullable = true)\n",
      " |-- Partner: string (nullable = true)\n",
      " |-- Dependents: string (nullable = true)\n",
      " |-- tenure: integer (nullable = true)\n",
      " |-- PhoneService: string (nullable = true)\n",
      " |-- MultipleLines: string (nullable = true)\n",
      " |-- InternetService: string (nullable = true)\n",
      " |-- OnlineSecurity: string (nullable = true)\n",
      " |-- OnlineBackup: string (nullable = true)\n",
      " |-- DeviceProtection: string (nullable = true)\n",
      " |-- TechSupport: string (nullable = true)\n",
      " |-- StreamingTV: string (nullable = true)\n",
      " |-- StreamingMovies: string (nullable = true)\n",
      " |-- Contract: string (nullable = true)\n",
      " |-- PaperlessBilling: string (nullable = true)\n",
      " |-- PaymentMethod: string (nullable = true)\n",
      " |-- MonthlyCharges: double (nullable = true)\n",
      " |-- TotalCharges: string (nullable = true)\n",
      " |-- Churn: string (nullable = true)\n",
      "\n"
     ]
    }
   ],
   "source": [
    "df.printSchema()"
   ]
  },
  {
   "cell_type": "code",
   "execution_count": null,
   "metadata": {
    "application/vnd.databricks.v1+cell": {
     "cellMetadata": {
      "byteLimit": 2048000,
      "rowLimit": 10000
     },
     "inputWidgets": {},
     "nuid": "75d2e20d-9caf-4032-8ca9-1ef11a9537ec",
     "showTitle": false,
     "title": ""
    }
   },
   "outputs": [
    {
     "name": "stdout",
     "output_type": "stream",
     "text": [
      "['customerID', 'gender', 'SeniorCitizen', 'Partner', 'Dependents', 'tenure', 'PhoneService', 'MultipleLines', 'InternetService', 'OnlineSecurity', 'OnlineBackup', 'DeviceProtection', 'TechSupport', 'StreamingTV', 'StreamingMovies', 'Contract', 'PaperlessBilling', 'PaymentMethod', 'MonthlyCharges', 'TotalCharges', 'Churn']\n"
     ]
    }
   ],
   "source": [
    "print(df.columns)"
   ]
  },
  {
   "cell_type": "code",
   "execution_count": null,
   "metadata": {
    "application/vnd.databricks.v1+cell": {
     "cellMetadata": {
      "byteLimit": 2048000,
      "rowLimit": 10000
     },
     "inputWidgets": {},
     "nuid": "eb33e371-fdf7-4704-b3e0-26e07ec23c3e",
     "showTitle": false,
     "title": ""
    }
   },
   "outputs": [
    {
     "data": {
      "text/html": [
       "<style scoped>\n",
       "  .table-result-container {\n",
       "    max-height: 300px;\n",
       "    overflow: auto;\n",
       "  }\n",
       "  table, th, td {\n",
       "    border: 1px solid black;\n",
       "    border-collapse: collapse;\n",
       "  }\n",
       "  th, td {\n",
       "    padding: 5px;\n",
       "  }\n",
       "  th {\n",
       "    text-align: left;\n",
       "  }\n",
       "</style><div class='table-result-container'><table class='table-result'><thead style='background-color: white'><tr><th>summary</th><th>customerID</th><th>gender</th><th>SeniorCitizen</th><th>Partner</th><th>Dependents</th><th>tenure</th><th>PhoneService</th><th>MultipleLines</th><th>InternetService</th><th>OnlineSecurity</th><th>OnlineBackup</th><th>DeviceProtection</th><th>TechSupport</th><th>StreamingTV</th><th>StreamingMovies</th><th>Contract</th><th>PaperlessBilling</th><th>PaymentMethod</th><th>MonthlyCharges</th><th>TotalCharges</th><th>Churn</th></tr></thead><tbody><tr><td>count</td><td>7043</td><td>7043</td><td>7043</td><td>7043</td><td>7043</td><td>7043</td><td>7043</td><td>7043</td><td>7043</td><td>7043</td><td>7043</td><td>7043</td><td>7043</td><td>7043</td><td>7043</td><td>7043</td><td>7043</td><td>7043</td><td>7043</td><td>7043</td><td>7043</td></tr><tr><td>mean</td><td>null</td><td>null</td><td>0.1621468124378816</td><td>null</td><td>null</td><td>32.37114865824223</td><td>null</td><td>null</td><td>null</td><td>null</td><td>null</td><td>null</td><td>null</td><td>null</td><td>null</td><td>null</td><td>null</td><td>null</td><td>64.76169246059922</td><td>2283.3004408418697</td><td>null</td></tr><tr><td>stddev</td><td>null</td><td>null</td><td>0.3686116056100135</td><td>null</td><td>null</td><td>24.559481023094442</td><td>null</td><td>null</td><td>null</td><td>null</td><td>null</td><td>null</td><td>null</td><td>null</td><td>null</td><td>null</td><td>null</td><td>null</td><td>30.090047097678482</td><td>2266.771361883145</td><td>null</td></tr><tr><td>min</td><td>0002-ORFBO</td><td>Female</td><td>0</td><td>No</td><td>No</td><td>0</td><td>No</td><td>No</td><td>DSL</td><td>No</td><td>No</td><td>No</td><td>No</td><td>No</td><td>No</td><td>Month-to-month</td><td>No</td><td>Bank transfer (automatic)</td><td>18.25</td><td> </td><td>No</td></tr><tr><td>max</td><td>9995-HOTOH</td><td>Male</td><td>1</td><td>Yes</td><td>Yes</td><td>72</td><td>Yes</td><td>Yes</td><td>No</td><td>Yes</td><td>Yes</td><td>Yes</td><td>Yes</td><td>Yes</td><td>Yes</td><td>Two year</td><td>Yes</td><td>Mailed check</td><td>118.75</td><td>999.9</td><td>Yes</td></tr></tbody></table></div>"
      ]
     },
     "metadata": {
      "application/vnd.databricks.v1+output": {
       "addedWidgets": {},
       "aggData": [],
       "aggError": "",
       "aggOverflow": false,
       "aggSchema": [],
       "aggSeriesLimitReached": false,
       "aggType": "",
       "arguments": {},
       "columnCustomDisplayInfos": {},
       "data": [
        [
         "count",
         "7043",
         "7043",
         "7043",
         "7043",
         "7043",
         "7043",
         "7043",
         "7043",
         "7043",
         "7043",
         "7043",
         "7043",
         "7043",
         "7043",
         "7043",
         "7043",
         "7043",
         "7043",
         "7043",
         "7043",
         "7043"
        ],
        [
         "mean",
         null,
         null,
         "0.1621468124378816",
         null,
         null,
         "32.37114865824223",
         null,
         null,
         null,
         null,
         null,
         null,
         null,
         null,
         null,
         null,
         null,
         null,
         "64.76169246059922",
         "2283.3004408418697",
         null
        ],
        [
         "stddev",
         null,
         null,
         "0.3686116056100135",
         null,
         null,
         "24.559481023094442",
         null,
         null,
         null,
         null,
         null,
         null,
         null,
         null,
         null,
         null,
         null,
         null,
         "30.090047097678482",
         "2266.771361883145",
         null
        ],
        [
         "min",
         "0002-ORFBO",
         "Female",
         "0",
         "No",
         "No",
         "0",
         "No",
         "No",
         "DSL",
         "No",
         "No",
         "No",
         "No",
         "No",
         "No",
         "Month-to-month",
         "No",
         "Bank transfer (automatic)",
         "18.25",
         " ",
         "No"
        ],
        [
         "max",
         "9995-HOTOH",
         "Male",
         "1",
         "Yes",
         "Yes",
         "72",
         "Yes",
         "Yes",
         "No",
         "Yes",
         "Yes",
         "Yes",
         "Yes",
         "Yes",
         "Yes",
         "Two year",
         "Yes",
         "Mailed check",
         "118.75",
         "999.9",
         "Yes"
        ]
       ],
       "datasetInfos": [],
       "dbfsResultPath": null,
       "isJsonSchema": true,
       "metadata": {},
       "overflow": false,
       "plotOptions": {
        "customPlotOptions": {},
        "displayType": "table",
        "pivotAggregation": null,
        "pivotColumns": null,
        "xColumns": null,
        "yColumns": null
       },
       "removedWidgets": [],
       "schema": [
        {
         "metadata": "{}",
         "name": "summary",
         "type": "\"string\""
        },
        {
         "metadata": "{}",
         "name": "customerID",
         "type": "\"string\""
        },
        {
         "metadata": "{}",
         "name": "gender",
         "type": "\"string\""
        },
        {
         "metadata": "{}",
         "name": "SeniorCitizen",
         "type": "\"string\""
        },
        {
         "metadata": "{}",
         "name": "Partner",
         "type": "\"string\""
        },
        {
         "metadata": "{}",
         "name": "Dependents",
         "type": "\"string\""
        },
        {
         "metadata": "{}",
         "name": "tenure",
         "type": "\"string\""
        },
        {
         "metadata": "{}",
         "name": "PhoneService",
         "type": "\"string\""
        },
        {
         "metadata": "{}",
         "name": "MultipleLines",
         "type": "\"string\""
        },
        {
         "metadata": "{}",
         "name": "InternetService",
         "type": "\"string\""
        },
        {
         "metadata": "{}",
         "name": "OnlineSecurity",
         "type": "\"string\""
        },
        {
         "metadata": "{}",
         "name": "OnlineBackup",
         "type": "\"string\""
        },
        {
         "metadata": "{}",
         "name": "DeviceProtection",
         "type": "\"string\""
        },
        {
         "metadata": "{}",
         "name": "TechSupport",
         "type": "\"string\""
        },
        {
         "metadata": "{}",
         "name": "StreamingTV",
         "type": "\"string\""
        },
        {
         "metadata": "{}",
         "name": "StreamingMovies",
         "type": "\"string\""
        },
        {
         "metadata": "{}",
         "name": "Contract",
         "type": "\"string\""
        },
        {
         "metadata": "{}",
         "name": "PaperlessBilling",
         "type": "\"string\""
        },
        {
         "metadata": "{}",
         "name": "PaymentMethod",
         "type": "\"string\""
        },
        {
         "metadata": "{}",
         "name": "MonthlyCharges",
         "type": "\"string\""
        },
        {
         "metadata": "{}",
         "name": "TotalCharges",
         "type": "\"string\""
        },
        {
         "metadata": "{}",
         "name": "Churn",
         "type": "\"string\""
        }
       ],
       "type": "table"
      }
     },
     "output_type": "display_data"
    }
   ],
   "source": [
    "#summary stats\n",
    "display(df.describe())"
   ]
  },
  {
   "cell_type": "code",
   "execution_count": null,
   "metadata": {
    "application/vnd.databricks.v1+cell": {
     "cellMetadata": {
      "byteLimit": 2048000,
      "rowLimit": 10000
     },
     "inputWidgets": {},
     "nuid": "32343a27-7b93-47a6-882b-e7b2a226f998",
     "showTitle": false,
     "title": ""
    }
   },
   "outputs": [
    {
     "name": "stdout",
     "output_type": "stream",
     "text": [
      "Total number of rows:\n",
      "7043\n"
     ]
    }
   ],
   "source": [
    "print(\"Total number of rows:\")\n",
    "row_count = df.count()\n",
    "print(row_count)"
   ]
  },
  {
   "cell_type": "markdown",
   "metadata": {
    "application/vnd.databricks.v1+cell": {
     "cellMetadata": {
      "byteLimit": 2048000,
      "rowLimit": 10000
     },
     "inputWidgets": {},
     "nuid": "a7dc6bd0-633e-45fa-8029-4644011a5f19",
     "showTitle": false,
     "title": ""
    }
   },
   "source": [
    "# data validation using pyspark\n",
    "- check if dataframe is empty\n",
    "- primary key check\n",
    "- check for nulls"
   ]
  },
  {
   "cell_type": "code",
   "execution_count": null,
   "metadata": {
    "application/vnd.databricks.v1+cell": {
     "cellMetadata": {
      "byteLimit": 2048000,
      "rowLimit": 10000
     },
     "inputWidgets": {},
     "nuid": "5d02e474-ab23-45a9-87ca-b852e78dddda",
     "showTitle": false,
     "title": ""
    }
   },
   "outputs": [
    {
     "name": "stdout",
     "output_type": "stream",
     "text": [
      "DataFrame is not empty\n",
      "ID column is unique\n",
      "No null values found\n"
     ]
    }
   ],
   "source": [
    "def data_validation(df):\n",
    "  #\n",
    "  if df.rdd.isEmpty():\n",
    "      print(\"DataFrame is empty\")\n",
    "  else:\n",
    "      print(\"DataFrame is not empty\")\n",
    "\n",
    "\n",
    "  #primary key check\n",
    "  if df.select(\"customerID\").distinct().count() == df.count():\n",
    "      print(\"ID column is unique\")\n",
    "  else:\n",
    "      raise Exception(\"Primary key check is violated.\")\n",
    "\n",
    "  # Check for nulls\n",
    "  null_found = df.select([col(c).isNull().alias(c) for c in df.columns])\\\n",
    "                .rdd.map(lambda row: any(row))\\\n",
    "                .reduce(lambda x, y: x or y)\n",
    "  if null_found:\n",
    "    raise Exception(\"Null values found\")\n",
    "  else:\n",
    "    print(\"No null values found\")\n",
    "\n",
    "\n",
    "data_validation(df)\n",
    "\n"
   ]
  },
  {
   "cell_type": "markdown",
   "metadata": {
    "application/vnd.databricks.v1+cell": {
     "cellMetadata": {
      "byteLimit": 2048000,
      "rowLimit": 10000
     },
     "inputWidgets": {},
     "nuid": "07a82301-e208-47f2-9e1c-f80f037eb6ca",
     "showTitle": false,
     "title": ""
    }
   },
   "source": [
    "# data transformation using pyspark\n",
    "If applicable/necessary\n",
    "- filter\n",
    "- aggregate\n",
    "- split text\n",
    "- cast data to desired data type\n",
    "- date and time manipulation\n",
    "- reaarange columns\n",
    "- drop null values (if any)\n",
    "- Remove duplicates(if any)\n",
    "- Other business logics\n",
    "- ERROR HANDLING"
   ]
  },
  {
   "cell_type": "code",
   "execution_count": null,
   "metadata": {
    "application/vnd.databricks.v1+cell": {
     "cellMetadata": {
      "byteLimit": 2048000,
      "rowLimit": 10000
     },
     "inputWidgets": {},
     "nuid": "6092b3b3-edb6-475c-9a18-62a5afcf4072",
     "showTitle": false,
     "title": ""
    }
   },
   "outputs": [],
   "source": [
    "from pyspark.sql.functions import avg, col, lit\n",
    "\n",
    "def transform_data(staging_table):\n",
    "    df = staging_table\n",
    "    # Calculate the overall average of TotalCharges\n",
    "    average_total_charges = df.select(avg(\"TotalCharges\")).first()[0]\n",
    "\n",
    "    # Add a new column with the overall average\n",
    "    df = df.withColumn(\"average\", lit(average_total_charges))\n",
    "    df_filtered = df.where((col(\"PhoneService\") == \"No\") & (col(\"MonthlyCharges\") >= 35.0)).orderBy(col(\"MonthlyCharges\").asc())\n",
    "\n",
    "    transformed_data = df_filtered.select('customerID', 'gender', 'PhoneService', 'PaymentMethod', 'MonthlyCharges', 'TotalCharges', 'average')\n",
    "    return transformed_data"
   ]
  },
  {
   "cell_type": "code",
   "execution_count": null,
   "metadata": {
    "application/vnd.databricks.v1+cell": {
     "cellMetadata": {
      "byteLimit": 2048000,
      "rowLimit": 10000
     },
     "inputWidgets": {},
     "nuid": "cbc8cbae-4776-4c10-91d2-aff4a1302cfe",
     "showTitle": false,
     "title": ""
    }
   },
   "outputs": [
    {
     "name": "stdout",
     "output_type": "stream",
     "text": [
      "Total number of rows: 7043\n"
     ]
    }
   ],
   "source": [
    "row_count = df.count()\n",
    "print(f\"Total number of rows: {row_count}\")"
   ]
  },
  {
   "cell_type": "code",
   "execution_count": null,
   "metadata": {
    "application/vnd.databricks.v1+cell": {
     "cellMetadata": {
      "byteLimit": 2048000,
      "rowLimit": 10000
     },
     "inputWidgets": {},
     "nuid": "c1eba03a-52bd-4c94-b7c3-bccea67e97da",
     "showTitle": false,
     "title": ""
    }
   },
   "outputs": [
    {
     "data": {
      "text/plain": [
       "['customerID',\n",
       " 'gender',\n",
       " 'PhoneService',\n",
       " 'PaymentMethod',\n",
       " 'MonthlyCharges',\n",
       " 'TotalCharges',\n",
       " 'average']"
      ]
     },
     "execution_count": 176,
     "metadata": {},
     "output_type": "execute_result"
    }
   ],
   "source": [
    "transformed_data.columns\n"
   ]
  },
  {
   "cell_type": "markdown",
   "metadata": {
    "application/vnd.databricks.v1+cell": {
     "cellMetadata": {
      "byteLimit": 2048000,
      "rowLimit": 10000
     },
     "inputWidgets": {},
     "nuid": "46acdb22-5cc4-44b4-87af-0636bed7c3fb",
     "showTitle": false,
     "title": ""
    }
   },
   "source": [
    "# Load it to azure SQL"
   ]
  },
  {
   "cell_type": "code",
   "execution_count": null,
   "metadata": {
    "application/vnd.databricks.v1+cell": {
     "cellMetadata": {
      "byteLimit": 2048000,
      "rowLimit": 10000
     },
     "inputWidgets": {},
     "nuid": "b124a2b0-8ed5-4bfb-9b7b-9b1219caf50a",
     "showTitle": false,
     "title": ""
    }
   },
   "outputs": [],
   "source": [
    "# Construct JDBC URL for connecting to SQL Server\n",
    "server_name = \"**********\"\n",
    "database_name = \"***********\"\n",
    "user_name = \"*********\"\n",
    "password = \"*************\"\n",
    "\n",
    "jdbcUrl = f\"jdbc:sqlserver://{server_name}.database.windows.net:1433;\" \\\n",
    "          f\"database={database_name};\" \\\n",
    "          f\"user={user_name}@\" + server_name + \";\" \\\n",
    "          f\"password={password};\""
   ]
  },
  {
   "cell_type": "code",
   "execution_count": null,
   "metadata": {
    "application/vnd.databricks.v1+cell": {
     "cellMetadata": {
      "byteLimit": 2048000,
      "rowLimit": 10000
     },
     "inputWidgets": {},
     "nuid": "db9631f6-bb4a-42ca-8a3c-0d48af932331",
     "showTitle": false,
     "title": ""
    }
   },
   "outputs": [],
   "source": [
    "def load_to_azSQL(transformed_data):\n",
    "    df = transformed_data\n",
    "    try:\n",
    "        df.write \\\n",
    "            .format(\"jdbc\") \\\n",
    "            .option(\"url\", jdbcUrl) \\\n",
    "            .option(\"dbtable\", \"telco_sample_dataset\") \\\n",
    "            .option(\"user\", user_name) \\\n",
    "            .option(\"password\", password) \\\n",
    "            .mode(\"overwrite\") \\\n",
    "            .save()\n",
    "        display(\"DataFrame successfully written to Azure SQL Database.\")\n",
    "    except Exception as e:\n",
    "        display(f\"An error occurred: {e}\")"
   ]
  },
  {
   "cell_type": "markdown",
   "metadata": {
    "application/vnd.databricks.v1+cell": {
     "cellMetadata": {},
     "inputWidgets": {},
     "nuid": "7b388ab8-12e8-41e1-86fc-e16f76fc7449",
     "showTitle": false,
     "title": ""
    }
   },
   "source": [
    "## ETL Pipeline Execution: Read CSV, Transform Data, Load to Azure SQL"
   ]
  },
  {
   "cell_type": "code",
   "execution_count": null,
   "metadata": {
    "application/vnd.databricks.v1+cell": {
     "cellMetadata": {
      "byteLimit": 2048000,
      "rowLimit": 10000
     },
     "inputWidgets": {},
     "nuid": "826ad355-e628-4176-8c24-80da12f72483",
     "showTitle": false,
     "title": ""
    }
   },
   "outputs": [
    {
     "data": {
      "text/plain": [
       "'DataFrame successfully written to Azure SQL Database.'"
      ]
     },
     "metadata": {},
     "output_type": "display_data"
    }
   ],
   "source": [
    "staging_table = read_csv(file_type, file_location)\n",
    "transformed_data = transform_data(staging_table)\n",
    "load_df = load_to_azSQL(transformed_data)"
   ]
  },
  {
   "cell_type": "markdown",
   "metadata": {
    "application/vnd.databricks.v1+cell": {
     "cellMetadata": {
      "byteLimit": 2048000,
      "rowLimit": 10000
     },
     "inputWidgets": {},
     "nuid": "0880bffd-4f8d-4565-8428-ace92f92a53c",
     "showTitle": false,
     "title": ""
    }
   },
   "source": [
    "\n",
    "This table will persist across cluster restarts and allow various users across different notebooks to query this data."
   ]
  }
 ],
 "metadata": {
  "application/vnd.databricks.v1+notebook": {
   "dashboards": [],
   "environmentMetadata": null,
   "language": "python",
   "notebookMetadata": {
    "mostRecentlyExecutedCommandWithImplicitDF": {
     "commandId": -1,
     "dataframes": [
      "_sqldf"
     ]
    },
    "pythonIndentUnit": 2
   },
   "notebookName": "Crocs sample data pipeline",
   "widgets": {}
  },
  "language_info": {
   "name": "python"
  }
 },
 "nbformat": 4,
 "nbformat_minor": 0
}
