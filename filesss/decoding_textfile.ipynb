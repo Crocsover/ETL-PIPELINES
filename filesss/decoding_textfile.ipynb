{
 "cells": [
  {
   "cell_type": "code",
   "execution_count": 61,
   "id": "773a85e9",
   "metadata": {},
   "outputs": [],
   "source": [
    "def decode(messaged_file):\n",
    "    # Read the text file\n",
    "    with open(messaged_file, 'r') as file:\n",
    "        lines = file.readlines()\n",
    "\n",
    "    # Parse the lines into a dictionary\n",
    "    my_dict = {}\n",
    "    for line in lines:\n",
    "        key, value = line.strip().split(' ')\n",
    "        my_dict[int(key)] = value\n",
    "\n",
    "    # Sort the dictionary by keys in ascending order\n",
    "    sorted_dict = dict(sorted(my_dict.items()))\n",
    "\n",
    "    # Initialize an empty list\n",
    "    row_values_list = []\n",
    "\n",
    "    # Get the end of each row in the half pyramid\n",
    "    current_key = 1\n",
    "    while current_key in sorted_dict:\n",
    "        end_key = current_key\n",
    "        for key in range(current_key, current_key * 2):\n",
    "            if key in sorted_dict:\n",
    "                end_key = key\n",
    "        row_values_list.append(sorted_dict[end_key])\n",
    "        current_key *= 2\n",
    "\n",
    "    # Concatenate the list of row values into a single string with spacing\n",
    "    row_values_str = \" \".join(row_values_list)\n",
    "\n",
    "    return row_values_str"
   ]
  },
  {
   "cell_type": "code",
   "execution_count": 62,
   "id": "70fb0260",
   "metadata": {},
   "outputs": [
    {
     "name": "stdout",
     "output_type": "stream",
     "text": [
      "I love computers\n"
     ]
    }
   ],
   "source": [
    "filename = r'message_file.txt'\n",
    "print(decode(filename))\n",
    "\n"
   ]
  },
  {
   "cell_type": "code",
   "execution_count": null,
   "id": "52a892dd",
   "metadata": {},
   "outputs": [],
   "source": []
  }
 ],
 "metadata": {
  "kernelspec": {
   "display_name": "Python 3 (ipykernel)",
   "language": "python",
   "name": "python3"
  },
  "language_info": {
   "codemirror_mode": {
    "name": "ipython",
    "version": 3
   },
   "file_extension": ".py",
   "mimetype": "text/x-python",
   "name": "python",
   "nbconvert_exporter": "python",
   "pygments_lexer": "ipython3",
   "version": "3.11.4"
  }
 },
 "nbformat": 4,
 "nbformat_minor": 5
}
